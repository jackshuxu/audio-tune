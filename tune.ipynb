{
 "cells": [
  {
   "cell_type": "code",
   "execution_count": null,
   "id": "b297f6e6-fd06-4b71-97f6-cc6099ba37cf",
   "metadata": {},
   "outputs": [],
   "source": [
    "!nvidia-smi"
   ]
  },
  {
   "cell_type": "code",
   "execution_count": null,
   "id": "bd42aeef-d03c-407d-b66b-edf1ac48aba4",
   "metadata": {
    "scrolled": true
   },
   "outputs": [],
   "source": [
    "!git clone https://github.com/Stability-AI/stable-audio-tools.git\n",
    "%cd stable-audio-tools\n",
    "!pip install -e .\n",
    "%cd .."
   ]
  },
  {
   "cell_type": "code",
   "execution_count": null,
   "id": "217aa36e-2bda-4780-bedf-d7cd62a09110",
   "metadata": {
    "scrolled": true
   },
   "outputs": [],
   "source": [
    "!apt-get update -y\n",
    "!apt-get install ffmpeg -y\n",
    "!pip install gdown"
   ]
  },
  {
   "cell_type": "code",
   "execution_count": null,
   "id": "e8b36cd1-a80c-41cb-9dae-509e89cea93d",
   "metadata": {
    "scrolled": true
   },
   "outputs": [],
   "source": [
    "# from huggingface_hub import hf_hub_download\n",
    "# from huggingface_hub import notebook_login\n",
    "\n",
    "# notebook_login()"
   ]
  },
  {
   "cell_type": "code",
   "execution_count": null,
   "id": "67bc5032-e457-413b-ba50-9e00e8deb708",
   "metadata": {},
   "outputs": [],
   "source": [
    "# !git config --global credential.helper store"
   ]
  },
  {
   "cell_type": "code",
   "execution_count": null,
   "id": "983ffe0a-d4dc-47d2-b043-5f175de0a68c",
   "metadata": {},
   "outputs": [],
   "source": [
    "# hf_hub_download(repo_id=\"stabilityai/stable-audio-open-1.0\", filename=\"model.ckpt\", local_dir=\"./\")\n",
    "# hf_hub_download(repo_id=\"stabilityai/stable-audio-open-1.0\", filename=\"model_config.json\", local_dir=\"./\")"
   ]
  },
  {
   "cell_type": "code",
   "execution_count": null,
   "id": "75e2cf3e-e20c-451a-9505-2fa1b10f1d49",
   "metadata": {},
   "outputs": [],
   "source": [
    "# !gdown "
   ]
  },
  {
   "cell_type": "code",
   "execution_count": null,
   "id": "d99fc491-14f6-493f-b829-e77685e5c927",
   "metadata": {},
   "outputs": [],
   "source": [
    "# import zipfile\n",
    "\n",
    "# zip_path = \"/workspace/Full ARP Pack.zip\"    \n",
    "# extract_dir = \"/workspace/dataset\"\n",
    "\n",
    "# with zipfile.ZipFile(zip_path, 'r') as zip_ref:\n",
    "#     zip_ref.extractall(extract_dir)"
   ]
  },
  {
   "cell_type": "code",
   "execution_count": null,
   "id": "7645f471-2a40-41bd-8808-c8132b75b77b",
   "metadata": {},
   "outputs": [],
   "source": [
    "!wandb login"
   ]
  },
  {
   "cell_type": "code",
   "execution_count": null,
   "id": "2db02123-dd1e-4272-84c9-47cfc0fd753b",
   "metadata": {
    "scrolled": true
   },
   "outputs": [],
   "source": [
    "%cd /workspace/stable-audio-tools\n",
    "\n",
    "command = (\n",
    "    \"python3 train.py\"\n",
    "    \" --dataset-config /workspace/dataset.json\"\n",
    "    \" --model-config /workspace/model_config.json\"\n",
    "    \" --name stable_audio_open_finetune\"\n",
    "    \" --save-dir /workspace/checkpoints\"\n",
    "    \" --checkpoint-every 200\"\n",
    "    \" --batch-size 16\"\n",
    "    \" --num-gpus 2\"\n",
    "    \" --precision 16-mixed\"\n",
    "    \" --seed 128\"\n",
    "    \" --pretrained-ckpt-path /workspace/model.ckpt\"\n",
    "    \n",
    ")\n",
    "\n",
    "!{command}"
   ]
  },
  {
   "cell_type": "code",
   "execution_count": null,
   "id": "cc424a07-e1fa-4349-8775-e3725335ff12",
   "metadata": {},
   "outputs": [],
   "source": [
    "#checkpoint path: /workspace/checkpoints/stable_audio_open_finetune/x6qp450d/checkpoints\n",
    "%cd /workspace/stable-audio-tools\n",
    "\n",
    "command = (\n",
    "    \"python ./unwrap_model.py\"\n",
    "    \" --model-config /workspace/model_config.json\"\n",
    "    \" --ckpt-path /workspace/checkpoints/stable_audio_open_finetune/x6qp450d/checkpoints/epoch=53-step=800.ckpt\"\n",
    "    \" --name AIRP_53_800\"\n",
    ")\n",
    "!{command}"
   ]
  },
  {
   "cell_type": "code",
   "execution_count": null,
   "id": "310e1660-884b-4ff4-be13-b139b081186a",
   "metadata": {},
   "outputs": [],
   "source": [
    "%cd /workspace\n",
    "\n",
    "command = (\n",
    "    \"python stable-audio-tools/run_gradio.py\"\n",
    "    \" --model-config /workspace/model_config.json\"\n",
    "    \" --ckpt-path /workspace/AIRP_26_400.ckpt\"\n",
    "    \" --share\"\n",
    ")\n",
    "!{command}"
   ]
  },
  {
   "cell_type": "code",
   "execution_count": null,
   "id": "fa71b0f2-5e7a-48cb-aa35-1ea61d6f5257",
   "metadata": {},
   "outputs": [],
   "source": []
  }
 ],
 "metadata": {
  "kernelspec": {
   "display_name": "Python 3 (ipykernel)",
   "language": "python",
   "name": "python3"
  },
  "language_info": {
   "codemirror_mode": {
    "name": "ipython",
    "version": 3
   },
   "file_extension": ".py",
   "mimetype": "text/x-python",
   "name": "python",
   "nbconvert_exporter": "python",
   "pygments_lexer": "ipython3",
   "version": "3.10.12"
  }
 },
 "nbformat": 4,
 "nbformat_minor": 5
}
